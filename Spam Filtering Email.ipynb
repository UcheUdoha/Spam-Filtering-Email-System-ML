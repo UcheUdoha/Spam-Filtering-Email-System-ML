{
 "cells": [
  {
   "cell_type": "code",
   "execution_count": 7,
   "id": "d28d4798-2c72-4ab7-a8f7-9d412a83ed26",
   "metadata": {},
   "outputs": [],
   "source": [
    "import pandas as pd\n",
    "from sklearn.feature_extraction.text import TfidfVectorizer\n",
    "from sklearn.model_selection import train_test_split\n",
    "from sklearn.linear_model import LogisticRegression, LinearRegression, Perceptron\n",
    "from sklearn.metrics import accuracy_score, classification_report\n",
    "\n",
    "# Load the dataset\n",
    "df = pd.read_csv('email.csv', encoding='latin-1')"
   ]
  },
  {
   "cell_type": "code",
   "execution_count": 8,
   "id": "4b341387-b475-461a-967a-8a7eaef41333",
   "metadata": {},
   "outputs": [],
   "source": [
    "# Preprocess the data\n",
    "df = df.rename(columns={\"Category\": \"label\", \"Message\": \"text\"})\n",
    "df = df[['label', 'text']]\n",
    "\n",
    "# Handle missing values\n",
    "df = df.dropna(subset=['label', 'text'])\n",
    "\n",
    "# Map labels to binary values\n",
    "df['label'] = df['label'].map({'ham': 0, 'spam': 1})\n",
    "\n",
    "# Ensure there are no NaN values in the target variable\n",
    "df = df.dropna(subset=['label'])"
   ]
  },
  {
   "cell_type": "code",
   "execution_count": 9,
   "id": "d6de3957-8357-4b38-866a-f3ec2092b743",
   "metadata": {},
   "outputs": [],
   "source": [
    "# Feature extraction\n",
    "vectorizer = TfidfVectorizer(stop_words='english')\n",
    "X = vectorizer.fit_transform(df['text'])\n",
    "y = df['label']"
   ]
  },
  {
   "cell_type": "code",
   "execution_count": 10,
   "id": "9c14bbc0-1052-4c35-96ea-042dedc49ff1",
   "metadata": {},
   "outputs": [],
   "source": [
    "# Split the data into training and testing sets\n",
    "X_train, X_test, y_train, y_test = train_test_split(X, y, test_size=0.3, random_state=42)"
   ]
  },
  {
   "cell_type": "code",
   "execution_count": 11,
   "id": "9a9e9e41-3ece-47d9-a618-3d2b89cd57db",
   "metadata": {},
   "outputs": [],
   "source": [
    "# Logistic Regression\n",
    "model_lr = LogisticRegression()\n",
    "model_lr.fit(X_train, y_train)\n",
    "y_pred_lr = model_lr.predict(X_test)\n",
    "\n",
    "# Linear Regression for Classification\n",
    "model_linear = LinearRegression()\n",
    "model_linear.fit(X_train, y_train)\n",
    "y_pred_linear = model_linear.predict(X_test)\n",
    "y_pred_linear_class = (y_pred_linear >= 0.5).astype(int)\n",
    "\n",
    "# Perceptron Classifier\n",
    "model_perceptron = Perceptron()\n",
    "model_perceptron.fit(X_train, y_train)\n",
    "y_pred_perceptron = model_perceptron.predict(X_test)"
   ]
  },
  {
   "cell_type": "code",
   "execution_count": 12,
   "id": "71fe5366-171d-4b3f-b08e-e9a7145b96db",
   "metadata": {},
   "outputs": [],
   "source": [
    "# Evaluation\n",
    "accuracy_lr = accuracy_score(y_test, y_pred_lr)\n",
    "report_lr = classification_report(y_test, y_pred_lr)\n",
    "\n",
    "accuracy_linear = accuracy_score(y_test, y_pred_linear_class)\n",
    "report_linear = classification_report(y_test, y_pred_linear_class)\n",
    "\n",
    "accuracy_perceptron = accuracy_score(y_test, y_pred_perceptron)\n",
    "report_perceptron = classification_report(y_test, y_pred_perceptron)"
   ]
  },
  {
   "cell_type": "code",
   "execution_count": 13,
   "id": "ea664831-ceba-455e-9345-a773ba29f678",
   "metadata": {},
   "outputs": [
    {
     "name": "stdout",
     "output_type": "stream",
     "text": [
      "Logistic Regression Accuracy: 0.9557416267942583\n",
      "Logistic Regression Classification Report:\n",
      "              precision    recall  f1-score   support\n",
      "\n",
      "         0.0       0.95      1.00      0.98      1448\n",
      "         1.0       0.99      0.67      0.80       224\n",
      "\n",
      "    accuracy                           0.96      1672\n",
      "   macro avg       0.97      0.84      0.89      1672\n",
      "weighted avg       0.96      0.96      0.95      1672\n",
      "\n",
      "Linear Regression (Classification) Accuracy: 0.9754784688995215\n",
      "Linear Regression (Classification) Report:\n",
      "              precision    recall  f1-score   support\n",
      "\n",
      "         0.0       0.98      1.00      0.99      1448\n",
      "         1.0       0.97      0.84      0.90       224\n",
      "\n",
      "    accuracy                           0.98      1672\n",
      "   macro avg       0.97      0.92      0.94      1672\n",
      "weighted avg       0.98      0.98      0.97      1672\n",
      "\n",
      "Perceptron Classifier Accuracy: 0.9868421052631579\n",
      "Perceptron Classification Report:\n",
      "              precision    recall  f1-score   support\n",
      "\n",
      "         0.0       0.99      0.99      0.99      1448\n",
      "         1.0       0.96      0.94      0.95       224\n",
      "\n",
      "    accuracy                           0.99      1672\n",
      "   macro avg       0.98      0.97      0.97      1672\n",
      "weighted avg       0.99      0.99      0.99      1672\n",
      "\n"
     ]
    }
   ],
   "source": [
    "print(f'Logistic Regression Accuracy: {accuracy_lr}')\n",
    "print('Logistic Regression Classification Report:')\n",
    "print(report_lr)\n",
    "\n",
    "print(f'Linear Regression (Classification) Accuracy: {accuracy_linear}')\n",
    "print('Linear Regression (Classification) Report:')\n",
    "print(report_linear)\n",
    "\n",
    "print(f'Perceptron Classifier Accuracy: {accuracy_perceptron}')\n",
    "print('Perceptron Classification Report:')\n",
    "print(report_perceptron)"
   ]
  },
  {
   "cell_type": "code",
   "execution_count": null,
   "id": "b253cbf3-1324-452f-be9e-271b73e293a7",
   "metadata": {},
   "outputs": [],
   "source": []
  }
 ],
 "metadata": {
  "kernelspec": {
   "display_name": "Python 3 (ipykernel)",
   "language": "python",
   "name": "python3"
  },
  "language_info": {
   "codemirror_mode": {
    "name": "ipython",
    "version": 3
   },
   "file_extension": ".py",
   "mimetype": "text/x-python",
   "name": "python",
   "nbconvert_exporter": "python",
   "pygments_lexer": "ipython3",
   "version": "3.11.7"
  }
 },
 "nbformat": 4,
 "nbformat_minor": 5
}
